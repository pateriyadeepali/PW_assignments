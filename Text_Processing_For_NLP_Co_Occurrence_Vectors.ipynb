{
  "cells": [
    {
      "cell_type": "markdown",
      "metadata": {
        "id": "view-in-github",
        "colab_type": "text"
      },
      "source": [
        "<a href=\"https://colab.research.google.com/github/Lata21/pw_assignments/blob/main/Text_Processing_For_NLP_Co_Occurrence_Vectors.ipynb\" target=\"_parent\"><img src=\"https://colab.research.google.com/assets/colab-badge.svg\" alt=\"Open In Colab\"/></a>"
      ]
    },
    {
      "cell_type": "markdown",
      "metadata": {
        "id": "EaBq4OD5yeOe"
      },
      "source": [
        "# Importing neccessary libraries"
      ]
    },
    {
      "cell_type": "code",
      "execution_count": null,
      "metadata": {
        "id": "xDw2vTgwyeOh"
      },
      "outputs": [],
      "source": [
        "import numpy as np\n",
        "from collections import defaultdict\n",
        "from nltk.tokenize import word_tokenize, sent_tokenize"
      ]
    },
    {
      "cell_type": "markdown",
      "metadata": {
        "id": "kovhI7VvyeOh"
      },
      "source": [
        "# Sample text"
      ]
    },
    {
      "cell_type": "code",
      "execution_count": null,
      "metadata": {
        "id": "BQZI9DtHyeOi"
      },
      "outputs": [],
      "source": [
        "text = \"Co-occurrence vectors capture word relationships in a text corpus. They are used for various NLP tasks.\""
      ]
    },
    {
      "cell_type": "markdown",
      "metadata": {
        "id": "YeoOgT3-yeOi"
      },
      "source": [
        "# Tokenize into words and sentences"
      ]
    },
    {
      "cell_type": "code",
      "execution_count": null,
      "metadata": {
        "id": "1ypLTP2kyeOi",
        "outputId": "ae814684-ffe2-4aa3-c422-6740c938ac57"
      },
      "outputs": [
        {
          "name": "stdout",
          "output_type": "stream",
          "text": [
            "Tokenize into sentences and words\n",
            "Tokenized sentences: [['co-occurrence', 'vectors', 'capture', 'word', 'relationships', 'in', 'a', 'text', 'corpus', '.'], ['they', 'are', 'used', 'for', 'various', 'nlp', 'tasks', '.']]\n",
            "\n"
          ]
        }
      ],
      "source": [
        "print(\"Tokenize into sentences and words\")\n",
        "sentences = sent_tokenize(text)\n",
        "tokenized_sentences = [word_tokenize(sentence.lower()) for sentence in sentences]\n",
        "print(\"Tokenized sentences:\", tokenized_sentences)\n",
        "print()"
      ]
    },
    {
      "cell_type": "markdown",
      "metadata": {
        "id": "y-xHU206yeOi"
      },
      "source": [
        "# Build co-occurence matrix"
      ]
    },
    {
      "cell_type": "code",
      "execution_count": null,
      "metadata": {
        "id": "M21vOm6CyeOi",
        "outputId": "a2cca957-d48e-4d8e-e3d7-4182bebf7def"
      },
      "outputs": [
        {
          "name": "stdout",
          "output_type": "stream",
          "text": [
            "Build co-occurrence matrix\n"
          ]
        }
      ],
      "source": [
        "print(\"Build co-occurrence matrix\")\n",
        "window_size = 2\n",
        "co_occurrence_matrix = defaultdict(lambda: defaultdict(int))\n",
        "\n",
        "for sentence in tokenized_sentences:\n",
        "    for i, target_word in enumerate(sentence):\n",
        "        for j in range(max(0, i - window_size), min(len(sentence), i + window_size + 1)):\n",
        "            if i != j:\n",
        "                context_word = sentence[j]\n",
        "                co_occurrence_matrix[target_word][context_word] += 1"
      ]
    },
    {
      "cell_type": "markdown",
      "metadata": {
        "id": "tYGQBa8EyeOj"
      },
      "source": [
        "# Print co-occurence matrix"
      ]
    },
    {
      "cell_type": "code",
      "execution_count": null,
      "metadata": {
        "id": "gLedGWPByeOj",
        "outputId": "dfa88401-eff5-457e-ea1b-140fc2dd83cd"
      },
      "outputs": [
        {
          "name": "stdout",
          "output_type": "stream",
          "text": [
            "Co-occurrence matrix:\n",
            "co-occurrence defaultdict(<class 'int'>, {'vectors': 1, 'capture': 1})\n",
            "vectors defaultdict(<class 'int'>, {'co-occurrence': 1, 'capture': 1, 'word': 1})\n",
            "capture defaultdict(<class 'int'>, {'co-occurrence': 1, 'vectors': 1, 'word': 1, 'relationships': 1})\n",
            "word defaultdict(<class 'int'>, {'vectors': 1, 'capture': 1, 'relationships': 1, 'in': 1})\n",
            "relationships defaultdict(<class 'int'>, {'capture': 1, 'word': 1, 'in': 1, 'a': 1})\n",
            "in defaultdict(<class 'int'>, {'word': 1, 'relationships': 1, 'a': 1, 'text': 1})\n",
            "a defaultdict(<class 'int'>, {'relationships': 1, 'in': 1, 'text': 1, 'corpus': 1})\n",
            "text defaultdict(<class 'int'>, {'in': 1, 'a': 1, 'corpus': 1, '.': 1})\n",
            "corpus defaultdict(<class 'int'>, {'a': 1, 'text': 1, '.': 1})\n",
            ". defaultdict(<class 'int'>, {'text': 1, 'corpus': 1, 'nlp': 1, 'tasks': 1})\n",
            "they defaultdict(<class 'int'>, {'are': 1, 'used': 1})\n",
            "are defaultdict(<class 'int'>, {'they': 1, 'used': 1, 'for': 1})\n",
            "used defaultdict(<class 'int'>, {'they': 1, 'are': 1, 'for': 1, 'various': 1})\n",
            "for defaultdict(<class 'int'>, {'are': 1, 'used': 1, 'various': 1, 'nlp': 1})\n",
            "various defaultdict(<class 'int'>, {'used': 1, 'for': 1, 'nlp': 1, 'tasks': 1})\n",
            "nlp defaultdict(<class 'int'>, {'for': 1, 'various': 1, 'tasks': 1, '.': 1})\n",
            "tasks defaultdict(<class 'int'>, {'various': 1, 'nlp': 1, '.': 1})\n",
            "\n"
          ]
        }
      ],
      "source": [
        "print(\"Co-occurrence matrix:\")\n",
        "for target_word, context_words in co_occurrence_matrix.items():\n",
        "    print(target_word, context_words)\n",
        "print()"
      ]
    },
    {
      "cell_type": "code",
      "execution_count": null,
      "metadata": {
        "id": "n6KlYWh7yeOj"
      },
      "outputs": [],
      "source": []
    }
  ],
  "metadata": {
    "kernelspec": {
      "display_name": "Python 3",
      "language": "python",
      "name": "python3"
    },
    "language_info": {
      "codemirror_mode": {
        "name": "ipython",
        "version": 3
      },
      "file_extension": ".py",
      "mimetype": "text/x-python",
      "name": "python",
      "nbconvert_exporter": "python",
      "pygments_lexer": "ipython3",
      "version": "3.8.5"
    },
    "colab": {
      "provenance": [],
      "include_colab_link": true
    }
  },
  "nbformat": 4,
  "nbformat_minor": 0
}