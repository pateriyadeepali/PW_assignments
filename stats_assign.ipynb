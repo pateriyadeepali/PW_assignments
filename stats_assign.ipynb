{
  "nbformat": 4,
  "nbformat_minor": 0,
  "metadata": {
    "colab": {
      "provenance": [],
      "authorship_tag": "ABX9TyOu+sZCr0VYetHFaf2gHUSW",
      "include_colab_link": true
    },
    "kernelspec": {
      "name": "python3",
      "display_name": "Python 3"
    },
    "language_info": {
      "name": "python"
    }
  },
  "cells": [
    {
      "cell_type": "markdown",
      "metadata": {
        "id": "view-in-github",
        "colab_type": "text"
      },
      "source": [
        "<a href=\"https://colab.research.google.com/github/Lata21/pw_assignments/blob/main/stats_assign.ipynb\" target=\"_parent\"><img src=\"https://colab.research.google.com/assets/colab-badge.svg\" alt=\"Open In Colab\"/></a>"
      ]
    },
    {
      "cell_type": "code",
      "execution_count": 2,
      "metadata": {
        "colab": {
          "base_uri": "https://localhost:8080/",
          "height": 36
        },
        "id": "ABC68q0ktOHc",
        "outputId": "ec2ae441-d5f5-44a7-e542-5310790cf7b3"
      },
      "outputs": [
        {
          "output_type": "execute_result",
          "data": {
            "text/plain": [
              "'There are three measures of central tendency\\n1.mean\\n2.median\\n3.mode'"
            ],
            "application/vnd.google.colaboratory.intrinsic+json": {
              "type": "string"
            }
          },
          "metadata": {},
          "execution_count": 2
        }
      ],
      "source": [
        "#1.\n",
        "'''There are three measures of central tendency\n",
        "1.mean\n",
        "2.median\n",
        "3.mode'''"
      ]
    },
    {
      "cell_type": "code",
      "source": [
        "#2.\n",
        "'''Mean: Sensitive to outliers, provides a sense of overall average.\n",
        "Median: Robust to outliers, gives the middle value in an ordered dataset.\n",
        "Mode: Identifies the most common value(s) in a dataset, often used with categorical data.'''\n"
      ],
      "metadata": {
        "colab": {
          "base_uri": "https://localhost:8080/",
          "height": 70
        },
        "id": "Lk1pb-6ctk3S",
        "outputId": "35cffe0f-1962-4319-c9b8-a6947b478b01"
      },
      "execution_count": 3,
      "outputs": [
        {
          "output_type": "execute_result",
          "data": {
            "text/plain": [
              "'Mean: Sensitive to outliers, provides a sense of overall average.\\nMedian: Robust to outliers, gives the middle value in an ordered dataset.\\nMode: Identifies the most common value(s) in a dataset, often used with categorical data.'"
            ],
            "application/vnd.google.colaboratory.intrinsic+json": {
              "type": "string"
            }
          },
          "metadata": {},
          "execution_count": 3
        }
      ]
    },
    {
      "cell_type": "code",
      "source": [
        "#3.\n",
        "import numpy as np\n",
        "data=[178,177,176,177,178.2,178,175,179,180,175,178.9,176.2,177,172.5,178,176.5]\n",
        "print(np.mean(data))\n",
        "print(np.median(data))\n",
        "print('mode= 178')"
      ],
      "metadata": {
        "colab": {
          "base_uri": "https://localhost:8080/"
        },
        "id": "fVuSuPxKt60i",
        "outputId": "08e75ac8-aaf5-49f1-e635-47ae9a5bcc9c"
      },
      "execution_count": 11,
      "outputs": [
        {
          "output_type": "stream",
          "name": "stdout",
          "text": [
            "177.01875\n",
            "177.0\n",
            "mode= 178\n"
          ]
        }
      ]
    },
    {
      "cell_type": "code",
      "source": [
        "#4.\n",
        "dta=[178,177,176,177,178.2,178,175,179,180,175,178.9,176.2,177,172.5,178,176.5]\n",
        "np.std(dta)"
      ],
      "metadata": {
        "colab": {
          "base_uri": "https://localhost:8080/"
        },
        "id": "1_vJ-6PtuPEn",
        "outputId": "a93dff42-b8cd-4fb8-9016-8299f5bcfc5e"
      },
      "execution_count": 13,
      "outputs": [
        {
          "output_type": "execute_result",
          "data": {
            "text/plain": [
              "1.7885814036548633"
            ]
          },
          "metadata": {},
          "execution_count": 13
        }
      ]
    },
    {
      "cell_type": "code",
      "source": [
        "#5.\n",
        "'''Measures of dispersion, such as range, variance, and standard deviation, provide information about how spread out or dispersed the values in a dataset are. They help us understand the variability or diversity of the data points. Here's a brief explanation of each measure and an example to illustrate their use:\n",
        "\n",
        "1. Range:\n",
        "The range is the simplest measure of dispersion. It's the difference between the maximum and minimum values in a dataset. While it gives an idea of the overall spread, it's sensitive to outliers and might not be a robust measure in the presence of extreme values.\n",
        "\n",
        "Example:\n",
        "Let's consider the ages of a group of individuals: [25, 28, 30, 35, 45]. The range is calculated as:\n",
        "Range = Maximum value - Minimum value\n",
        "Range = 45 - 25 = 20\n",
        "The range indicates that the ages span a range of 20 years.\n",
        "\n",
        "2. Variance:\n",
        "Variance measures the average of the squared differences between each data point and the mean of the dataset. A higher variance implies greater variability in the data.\n",
        "\n",
        "Example:\n",
        "Consider the exam scores of a class: [85, 90, 78, 92, 88]. To calculate the variance:\n",
        "Step 1: Calculate the mean (average) of the data: (85 + 90 + 78 + 92 + 88) / 5 = 86.6\n",
        "Step 2: Calculate the squared differences from the mean for each data point:\n",
        "         (85 - 86.6)^2 + (90 - 86.6)^2 + (78 - 86.6)^2 + (92 - 86.6)^2 + (88 - 86.6)^2\n",
        "Step 3: Calculate the average of the squared differences:\n",
        "         Variance = Sum of squared differences / Number of data points\n",
        "         Variance ≈ 28.24\n",
        "\n",
        "3. Standard Deviation:\n",
        "The standard deviation is the square root of the variance. It represents the typical amount of deviation from the mean and is expressed in the same units as the data.\n",
        "\n",
        "Example:\n",
        "Continuing with the exam scores example, if the variance is approximately 28.24, then the standard deviation is the square root of the variance:\n",
        "Standard Deviation = √Variance ≈ √28.24 ≈ 5.32\n",
        "\n",
        "In this example, a standard deviation of 5.32 indicates that the exam scores tend to deviate from the mean by around 5.32 points on average.\n",
        "\n",
        "These measures of dispersion offer insights into how spread out the data values are from the central tendency measures (mean, median, mode) discussed earlier. They are essential for understanding the variability and distribution of data and are widely used in various fields, including statistics, economics, and sciences.'''"
      ],
      "metadata": {
        "colab": {
          "base_uri": "https://localhost:8080/",
          "height": 227
        },
        "id": "5s-LYjpau7tf",
        "outputId": "77cd46f9-5b08-4d7f-c0da-ee39cd1877ab"
      },
      "execution_count": 14,
      "outputs": [
        {
          "output_type": "execute_result",
          "data": {
            "text/plain": [
              "\"Measures of dispersion, such as range, variance, and standard deviation, provide information about how spread out or dispersed the values in a dataset are. They help us understand the variability or diversity of the data points. Here's a brief explanation of each measure and an example to illustrate their use:\\n\\n1. Range:\\nThe range is the simplest measure of dispersion. It's the difference between the maximum and minimum values in a dataset. While it gives an idea of the overall spread, it's sensitive to outliers and might not be a robust measure in the presence of extreme values.\\n\\nExample:\\nLet's consider the ages of a group of individuals: [25, 28, 30, 35, 45]. The range is calculated as:\\nRange = Maximum value - Minimum value\\nRange = 45 - 25 = 20\\nThe range indicates that the ages span a range of 20 years.\\n\\n2. Variance:\\nVariance measures the average of the squared differences between each data point and the mean of the dataset. A higher variance implies greater variability in the data.\\n\\nExample:\\nConsider the exam scores of a class: [85, 90, 78, 92, 88]. To calculate the variance:\\nStep 1: Calculate the mean (average) of the data: (85 + 90 + 78 + 92 + 88) / 5 = 86.6\\nStep 2: Calculate the squared differences from the mean for each data point:\\n         (85 - 86.6)^2 + (90 - 86.6)^2 + (78 - 86.6)^2 + (92 - 86.6)^2 + (88 - 86.6)^2\\nStep 3: Calculate the average of the squared differences:\\n         Variance = Sum of squared differences / Number of data points\\n         Variance ≈ 28.24\\n\\n3. Standard Deviation:\\nThe standard deviation is the square root of the variance. It represents the typical amount of deviation from the mean and is expressed in the same units as the data.\\n\\nExample:\\nContinuing with the exam scores example, if the variance is approximately 28.24, then the standard deviation is the square root of the variance:\\nStandard Deviation = √Variance ≈ √28.24 ≈ 5.32\\n\\nIn this example, a standard deviation of 5.32 indicates that the exam scores tend to deviate from the mean by around 5.32 points on average.\\n\\nThese measures of dispersion offer insights into how spread out the data values are from the central tendency measures (mean, median, mode) discussed earlier. They are essential for understanding the variability and distribution of data and are widely used in various fields, including statistics, economics, and sciences.\""
            ],
            "application/vnd.google.colaboratory.intrinsic+json": {
              "type": "string"
            }
          },
          "metadata": {},
          "execution_count": 14
        }
      ]
    },
    {
      "cell_type": "code",
      "source": [
        "#6.\n",
        "'''A Venn diagram is a graphical representation used to depict the relationships and commonalities between different sets or groups of objects, elements, or concepts. Venn diagrams are composed of overlapping circles, each representing a set, and the overlapping regions represent the intersections between these sets.'''"
      ],
      "metadata": {
        "colab": {
          "base_uri": "https://localhost:8080/",
          "height": 88
        },
        "id": "_KsQ_w-6vQCS",
        "outputId": "f6810f60-b23b-4938-e1ca-7331307a58cb"
      },
      "execution_count": 15,
      "outputs": [
        {
          "output_type": "execute_result",
          "data": {
            "text/plain": [
              "'A Venn diagram is a graphical representation used to depict the relationships and commonalities between different sets or groups of objects, elements, or concepts. Venn diagrams are composed of overlapping circles, each representing a set, and the overlapping regions represent the intersections between these sets.'"
            ],
            "application/vnd.google.colaboratory.intrinsic+json": {
              "type": "string"
            }
          },
          "metadata": {},
          "execution_count": 15
        }
      ]
    },
    {
      "cell_type": "code",
      "source": [
        "#7.\n",
        "'''(i) [2,6]\n",
        "(ii)[0,2,3,4,5,6,7,8,10]'''"
      ],
      "metadata": {
        "colab": {
          "base_uri": "https://localhost:8080/",
          "height": 36
        },
        "id": "cFebk17HvhGm",
        "outputId": "7f7a3828-8b0d-40d8-874a-b6c9f05ac553"
      },
      "execution_count": 16,
      "outputs": [
        {
          "output_type": "execute_result",
          "data": {
            "text/plain": [
              "'(i) [2,6]\\n(ii)[0,2,3,4,5,6,7,8,10]'"
            ],
            "application/vnd.google.colaboratory.intrinsic+json": {
              "type": "string"
            }
          },
          "metadata": {},
          "execution_count": 16
        }
      ]
    },
    {
      "cell_type": "code",
      "source": [
        "#8.\n",
        "'''Skewness is a statistical measure that indicates the asymmetry or lack of symmetry in the distribution of data points within a dataset'''\n",
        "'''two types of skewness\n",
        "1.Right\n",
        "2.Left'''"
      ],
      "metadata": {
        "colab": {
          "base_uri": "https://localhost:8080/",
          "height": 36
        },
        "id": "kx0M6kPHvz_I",
        "outputId": "01ad6939-03ea-43f4-9a38-2e0560c06684"
      },
      "execution_count": 17,
      "outputs": [
        {
          "output_type": "execute_result",
          "data": {
            "text/plain": [
              "'two types of skewness \\n1.Right \\n2.Left'"
            ],
            "application/vnd.google.colaboratory.intrinsic+json": {
              "type": "string"
            }
          },
          "metadata": {},
          "execution_count": 17
        }
      ]
    },
    {
      "cell_type": "code",
      "source": [
        "#9.\n",
        "'''The mean will be greater than the median.\n",
        "The median will be positioned to the left of the mean, closer to the lower values in the dataset.'''"
      ],
      "metadata": {
        "colab": {
          "base_uri": "https://localhost:8080/",
          "height": 53
        },
        "id": "xvh_F5pnwMoB",
        "outputId": "1ec9b6fb-9157-4494-c30f-3c70c8d71283"
      },
      "execution_count": 18,
      "outputs": [
        {
          "output_type": "execute_result",
          "data": {
            "text/plain": [
              "'The mean will be greater than the median.\\nThe median will be positioned to the left of the mean, closer to the lower values in the dataset.'"
            ],
            "application/vnd.google.colaboratory.intrinsic+json": {
              "type": "string"
            }
          },
          "metadata": {},
          "execution_count": 18
        }
      ]
    },
    {
      "cell_type": "code",
      "source": [
        "#10.\n",
        "'''Correlation:\n",
        "Correlation is a standardized measure that expresses the strength and direction of the linear relationship between two variables. Unlike covariance, correlation scales the relationship to always fall between -1 and 1, making it easier to interpret. A correlation of +1 indicates a perfect positive linear relationship, -1 indicates a perfect negative linear relationship, and 0 indicates no linear relationship.\n",
        "Covariance:\n",
        "Covariance measures the extent to which two variables change together. It indicates whether the variables tend to increase or decrease simultaneously. A positive covariance suggests that as one variable increases, the other tends to increase as well, while a negative covariance indicates that as one variable increases.'''"
      ],
      "metadata": {
        "colab": {
          "base_uri": "https://localhost:8080/",
          "height": 174
        },
        "id": "tbhDWaFpweF5",
        "outputId": "65566469-ed0a-4cd2-ed60-d036b04396c7"
      },
      "execution_count": 19,
      "outputs": [
        {
          "output_type": "execute_result",
          "data": {
            "text/plain": [
              "'Correlation:\\nCorrelation is a standardized measure that expresses the strength and direction of the linear relationship between two variables. Unlike covariance, correlation scales the relationship to always fall between -1 and 1, making it easier to interpret. A correlation of +1 indicates a perfect positive linear relationship, -1 indicates a perfect negative linear relationship, and 0 indicates no linear relationship.\\nCovariance:\\nCovariance measures the extent to which two variables change together. It indicates whether the variables tend to increase or decrease simultaneously. A positive covariance suggests that as one variable increases, the other tends to increase as well, while a negative covariance indicates that as one variable increases.'"
            ],
            "application/vnd.google.colaboratory.intrinsic+json": {
              "type": "string"
            }
          },
          "metadata": {},
          "execution_count": 19
        }
      ]
    },
    {
      "cell_type": "code",
      "source": [
        "#11.\n",
        "'''The sample mean, often denoted as \\(\\bar{X}\\) (pronounced as \"X bar\"), is the average value of a set of data points in a sample. It is calculated by summing up all the data points in the sample and then dividing by the number of data points.\n",
        "\n",
        "The formula for calculating the sample mean is:\n",
        "\n",
        "\\[ \\bar{X} = \\frac{\\sum_{i=1}^{n} X_i}{n} \\]\n",
        "\n",
        "Where:\n",
        "- \\(X_i\\) represents each individual data point in the sample.\n",
        "- \\(n\\) is the number of data points in the sample.\n",
        "\n",
        "Let's go through an example calculation:\n",
        "\n",
        "Suppose we have a dataset of exam scores for a class of 8 students:\n",
        "\\[ 85, 92, 78, 89, 95, 88, 76, 81 \\]\n",
        "\n",
        "To calculate the sample mean:\n",
        "1. Add up all the data points: \\(85 + 92 + 78 + 89 + 95 + 88 + 76 + 81 = 684\\)\n",
        "2. Divide the sum by the number of data points: \\( \\frac{684}{8} = 85.5\\)\n",
        "\n",
        "So, the sample mean of the exam scores is 85.5. This means that, on average, the students scored 85.5 on the exam.'''"
      ],
      "metadata": {
        "colab": {
          "base_uri": "https://localhost:8080/",
          "height": 209
        },
        "id": "9M-tIo72xM_f",
        "outputId": "706c04f7-4477-4d0b-987f-be32a8744e20"
      },
      "execution_count": 20,
      "outputs": [
        {
          "output_type": "execute_result",
          "data": {
            "text/plain": [
              "'The sample mean, often denoted as \\\\(\\x08ar{X}\\\\) (pronounced as \"X bar\"), is the average value of a set of data points in a sample. It is calculated by summing up all the data points in the sample and then dividing by the number of data points.\\n\\nThe formula for calculating the sample mean is:\\n\\n\\\\[ \\x08ar{X} = \\x0crac{\\\\sum_{i=1}^{n} X_i}{n} \\\\]\\n\\nWhere:\\n- \\\\(X_i\\\\) represents each individual data point in the sample.\\n- \\\\(n\\\\) is the number of data points in the sample.\\n\\nLet\\'s go through an example calculation:\\n\\nSuppose we have a dataset of exam scores for a class of 8 students:\\n\\\\[ 85, 92, 78, 89, 95, 88, 76, 81 \\\\]\\n\\nTo calculate the sample mean:\\n1. Add up all the data points: \\\\(85 + 92 + 78 + 89 + 95 + 88 + 76 + 81 = 684\\\\)\\n2. Divide the sum by the number of data points: \\\\( \\x0crac{684}{8} = 85.5\\\\)\\n\\nSo, the sample mean of the exam scores is 85.5. This means that, on average, the students scored 85.5 on the exam.'"
            ],
            "application/vnd.google.colaboratory.intrinsic+json": {
              "type": "string"
            }
          },
          "metadata": {},
          "execution_count": 20
        }
      ]
    },
    {
      "cell_type": "code",
      "source": [
        "#12.\n",
        "'''for a normal distribution, the mean, median, and mode are all equal to each other, forming a symmetrical and balanced relationship that characterizes the shape of the distribution. This property is a key characteristic of normal distributions and is often used as a criterion to assess whether a dataset follows a normal distribution or not.\n",
        "for right skewed\n",
        "mean>median>mode\n",
        "for left skewed\n",
        "mean<medain<mode'''"
      ],
      "metadata": {
        "colab": {
          "base_uri": "https://localhost:8080/",
          "height": 105
        },
        "id": "8MvnR6V2xXNg",
        "outputId": "9041ce70-019d-4529-d0be-e382e56a6573"
      },
      "execution_count": 23,
      "outputs": [
        {
          "output_type": "execute_result",
          "data": {
            "text/plain": [
              "'for a normal distribution, the mean, median, and mode are all equal to each other, forming a symmetrical and balanced relationship that characterizes the shape of the distribution. This property is a key characteristic of normal distributions and is often used as a criterion to assess whether a dataset follows a normal distribution or not.\\nfor right skewed \\nmean>median>mode\\nfor left skewed\\nmean<medain<mode'"
            ],
            "application/vnd.google.colaboratory.intrinsic+json": {
              "type": "string"
            }
          },
          "metadata": {},
          "execution_count": 23
        }
      ]
    },
    {
      "cell_type": "code",
      "source": [
        "#13.\n",
        "'''while both covariance and correlation provide information about the relationship between variables, correlation is more commonly used in practice due to its standardized nature, which allows for easier comparison and interpretation of the strength and direction of the relationship, especially when dealing with variables on different scales.'''"
      ],
      "metadata": {
        "colab": {
          "base_uri": "https://localhost:8080/",
          "height": 88
        },
        "id": "Di8Fw53Exw1N",
        "outputId": "699c4e7d-4d3a-4cf4-9754-5998be415f29"
      },
      "execution_count": 22,
      "outputs": [
        {
          "output_type": "execute_result",
          "data": {
            "text/plain": [
              "'while both covariance and correlation provide information about the relationship between variables, correlation is more commonly used in practice due to its standardized nature, which allows for easier comparison and interpretation of the strength and direction of the relationship, especially when dealing with variables on different scales.'"
            ],
            "application/vnd.google.colaboratory.intrinsic+json": {
              "type": "string"
            }
          },
          "metadata": {},
          "execution_count": 22
        }
      ]
    },
    {
      "cell_type": "code",
      "source": [
        "#14.\n",
        "'''Outliers are data points that are significantly different from the rest of the data in a dataset. These extreme values can have a substantial impact on both measures of central tendency (such as the mean, median, and mode) and measures of dispersion (such as the range, variance, and standard deviation). Their effects vary depending on the distribution of the data and the specific measure being used.\n",
        "\n",
        "**Measures of Central Tendency:**\n",
        "1. **Mean:** Outliers can heavily influence the mean. A single extreme value can pull the mean towards it, making it larger or smaller than what might be representative of the majority of the data.\n",
        "\n",
        "2. **Median:** The median is less affected by outliers. Since the median is the middle value when the data is ordered, one or a few outliers won't significantly alter its value.\n",
        "\n",
        "3. **Mode:** The mode is generally not affected by outliers, as it represents the most common value(s) in the dataset. Outliers occurring infrequently won't impact the mode.\n",
        "\n",
        "**Measures of Dispersion:**\n",
        "1. **Range:** Outliers can significantly increase the range by pulling the maximum or minimum values far from the rest of the data.\n",
        "\n",
        "2. **Variance and Standard Deviation:** Outliers can inflate the variance and standard deviation. Since these measures consider the squared differences between data points and the mean, large deviations caused by outliers result in larger squared terms.\n",
        "\n",
        "**Example:**\n",
        "Let's consider a dataset of salaries in a small company:\n",
        "\n",
        "\\[ \\$40,000, \\$45,000, \\$42,000, \\$41,000, \\$44,000, \\$42,000, \\$150,000 \\]\n",
        "\n",
        "Here, the salary of \\$150,000 is an outlier. Let's see how outliers affect the measures:\n",
        "\n",
        "1. **Mean:** If we calculate the mean of the dataset including the outlier: \\((40000 + 45000 + 42000 + 41000 + 44000 + 42000 + 150000) / 7 = \\$61,286\\). The outlier significantly inflates the mean compared to what might be considered a typical salary in the company.\n",
        "\n",
        "2. **Median:** The median of the dataset is \\$42,000. The outlier does not affect the median.\n",
        "\n",
        "3. **Range:** The range without the outlier is \\$110,000 (\\$45,000 - \\$40,000). With the outlier, the range becomes \\$110,000 + \\$150,000 - \\$40,000 = \\$220,000.\n",
        "\n",
        "4. **Variance and Standard Deviation:** The squared differences from the mean with the outlier are much larger, leading to a higher variance and standard deviation compared to the same measures calculated without the outlier.\n",
        "\n",
        "In this example, the outlier significantly impacts the mean and measures of dispersion like range, variance, and standard deviation. The median and mode, however, remain largely unaffected. It's important to consider the nature of the data and the potential impact of outliers when choosing appropriate measures for analysis.'''"
      ],
      "metadata": {
        "colab": {
          "base_uri": "https://localhost:8080/",
          "height": 227
        },
        "id": "4Jd5t1Nvx9VV",
        "outputId": "942d4e41-3af7-4734-df18-889fab471d73"
      },
      "execution_count": 24,
      "outputs": [
        {
          "output_type": "execute_result",
          "data": {
            "text/plain": [
              "\"Outliers are data points that are significantly different from the rest of the data in a dataset. These extreme values can have a substantial impact on both measures of central tendency (such as the mean, median, and mode) and measures of dispersion (such as the range, variance, and standard deviation). Their effects vary depending on the distribution of the data and the specific measure being used.\\n\\n**Measures of Central Tendency:**\\n1. **Mean:** Outliers can heavily influence the mean. A single extreme value can pull the mean towards it, making it larger or smaller than what might be representative of the majority of the data.\\n\\n2. **Median:** The median is less affected by outliers. Since the median is the middle value when the data is ordered, one or a few outliers won't significantly alter its value.\\n\\n3. **Mode:** The mode is generally not affected by outliers, as it represents the most common value(s) in the dataset. Outliers occurring infrequently won't impact the mode.\\n\\n**Measures of Dispersion:**\\n1. **Range:** Outliers can significantly increase the range by pulling the maximum or minimum values far from the rest of the data.\\n\\n2. **Variance and Standard Deviation:** Outliers can inflate the variance and standard deviation. Since these measures consider the squared differences between data points and the mean, large deviations caused by outliers result in larger squared terms.\\n\\n**Example:**\\nLet's consider a dataset of salaries in a small company:\\n\\n\\\\[ \\\\$40,000, \\\\$45,000, \\\\$42,000, \\\\$41,000, \\\\$44,000, \\\\$42,000, \\\\$150,000 \\\\]\\n\\nHere, the salary of \\\\$150,000 is an outlier. Let's see how outliers affect the measures:\\n\\n1. **Mean:** If we calculate the mean of the dataset including the outlier: \\\\((40000 + 45000 + 42000 + 41000 + 44000 + 42000 + 150000) / 7 = \\\\$61,286\\\\). The outlier significantly inflates the mean compared to what might be considered a typical salary in the company.\\n\\n2. **Median:** The median of the dataset is \\\\$42,000. The outlier does not affect the median.\\n\\n3. **Range:** The range without the outlier is \\\\$110,000 (\\\\$45,000 - \\\\$40,000). With the outlier, the range becomes \\\\$110,000 + \\\\$150,000 - \\\\$40,000 = \\\\$220,000.\\n\\n4. **Variance and Standard Deviation:** The squared differences from the mean with the outlier are much larger, leading to a higher variance and standard deviation compared to the same measures calculated without the outlier.\\n\\nIn this example, the outlier significantly impacts the mean and measures of dispersion like range, variance, and standard deviation. The median and mode, however, remain largely unaffected. It's important to consider the nature of the data and the potential impact of outliers when choosing appropriate measures for analysis.\""
            ],
            "application/vnd.google.colaboratory.intrinsic+json": {
              "type": "string"
            }
          },
          "metadata": {},
          "execution_count": 24
        }
      ]
    },
    {
      "cell_type": "code",
      "source": [],
      "metadata": {
        "id": "bn6DJqldyOqd"
      },
      "execution_count": null,
      "outputs": []
    }
  ]
}