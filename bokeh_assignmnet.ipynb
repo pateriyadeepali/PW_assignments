{
  "nbformat": 4,
  "nbformat_minor": 0,
  "metadata": {
    "colab": {
      "provenance": [],
      "toc_visible": true,
      "authorship_tag": "ABX9TyNfFLkgRVpYP2FXME8jkMcM",
      "include_colab_link": true
    },
    "kernelspec": {
      "name": "python3",
      "display_name": "Python 3"
    },
    "language_info": {
      "name": "python"
    }
  },
  "cells": [
    {
      "cell_type": "markdown",
      "metadata": {
        "id": "view-in-github",
        "colab_type": "text"
      },
      "source": [
        "<a href=\"https://colab.research.google.com/github/Lata21/pw_assignments/blob/main/bokeh_assignmnet.ipynb\" target=\"_parent\"><img src=\"https://colab.research.google.com/assets/colab-badge.svg\" alt=\"Open In Colab\"/></a>"
      ]
    },
    {
      "cell_type": "code",
      "execution_count": null,
      "metadata": {
        "id": "n1pZbKLvydLx"
      },
      "outputs": [],
      "source": [
        "#1.\n",
        "from bokeh.plotting import figure, output_file, show\n",
        "x = [1, 2, 3, 4, 5]\n",
        "y = [6, 7, 2, 4, 5]\n",
        "plot = figure(title=\"Simple Bokeh Scatter Plot\", x_axis_label='X-axis', y_axis_label='Y-axis')\n",
        "p = plot.circle(x, y, size=10, color=\"navy\", alpha=0.5)\n",
        "output_file(\"scatter_plot.html\")\n",
        "show(plot)"
      ]
    },
    {
      "cell_type": "code",
      "source": [
        "#2.\n",
        "#glyphs are the visual markers or graphical shapes that you add to a plot to represent your data\n",
        "from bokeh.plotting import figure, output_file, show\n",
        "x = [1, 2, 3, 4, 5]\n",
        "y = [6, 7, 2, 4,5]\n",
        "plot = figure(title=\"Bokeh Glyphs Example\", x_axis_label='X-axis', y_axis_label='Y-axis')\n",
        "\n",
        "# Add circle glyph\n",
        "plot.circle(x, y, size=10, color=\"navy\", alpha=0.5, legend_label=\"Circles\")\n",
        "\n",
        "# Add square glyph\n",
        "plot.square(x, y, size=10, color=\"firebrick\", alpha=0.5, legend_label=\"Squares\")\n",
        "\n",
        "# Add line glyph\n",
        "plot.line(x, y, line_width=2, line_color=\"green\", legend_label=\"Line\")\n",
        "\n",
        "# Add triangle glyph\n",
        "plot.triangle(x, y, size=10, color=\"purple\", alpha=0.5, legend_label=\"Triangles\")\n",
        "\n",
        "plot.legend.title = \"Glyphs\"\n",
        "plot.legend.label_text_font_size = \"12pt\"\n",
        "plot.legend.location = \"top_left\"\n",
        "plot.legend.click_policy = \"hide\"\n",
        "output_file(\"glyphs_example.html\")\n",
        "show(plot)\n"
      ],
      "metadata": {
        "id": "cJkIjT3ry54L"
      },
      "execution_count": null,
      "outputs": []
    },
    {
      "cell_type": "code",
      "source": [
        "#3.\n",
        "from bokeh.plotting import figure, output_file, show\n",
        "from bokeh.models import Title\n",
        "x = [1, 2, 3, 4, 5]\n",
        "y = [6, 7, 2, 4, 5]\n",
        "plot = figure(title=\"Customizing Bokeh Plot\", x_axis_label='X-axis', y_axis_label='Y-axis',\n",
        "              sizing_mode='stretch_both', background_fill_color=\"lightgrey\")\n",
        "\n",
        "# Add circle glyph\n",
        "plot.circle(x, y, size=10, color=\"navy\", alpha=0.5, legend_label=\"Circles\")\n",
        "\n",
        "# Customize plot attributes\n",
        "plot.title = Title(text=\"Customizing Bokeh Plot\", align=\"center\", text_color=\"navy\")\n",
        "plot.xaxis.axis_label_text_font_style = \"bold\"\n",
        "plot.yaxis.axis_label_text_font_style = \"bold\"\n",
        "plot.xaxis.major_label_text_color = \"green\"\n",
        "plot.yaxis.major_label_text_color = \"purple\"\n",
        "plot.legend.title = \"Glyphs\"\n",
        "plot.legend.label_text_font_size = \"12pt\"\n",
        "plot.legend.location = \"top_left\"\n",
        "plot.legend.click_policy = \"hide\"\n",
        "\n",
        "output_file(\"customized_plot.html\")\n",
        "show(plot)\n"
      ],
      "metadata": {
        "id": "pi9n0UXEhvbv"
      },
      "execution_count": null,
      "outputs": []
    },
    {
      "cell_type": "code",
      "source": [
        "#4.\n",
        "from bokeh.plotting import figure, curdoc\n",
        "from bokeh.models import ColumnDataSource\n",
        "import numpy as np\n",
        "\n",
        "# Create a figure and a data source\n",
        "x = np.linspace(0, 4 * np.pi, 100)\n",
        "y = np.sin(x)\n",
        "source = ColumnDataSource(data={'x': x, 'y': y})\n",
        "plot = figure(title=\"Real-time Sine Wave\", height=300, width=600)\n",
        "line = plot.line(x='x', y='y', source=source)\n",
        "\n",
        "# Define a function to update the data\n",
        "def update():\n",
        "    new_y = np.sin(x + update.counter)\n",
        "    source.data = {'x': x, 'y': new_y}\n",
        "    update.counter += 0.1\n",
        "\n",
        "update.counter = 0\n",
        "\n",
        "# Add the plot to the current document\n",
        "curdoc().add_root(plot)\n",
        "\n",
        "# Periodically update the plot\n",
        "curdoc().add_periodic_callback(update, 100)  # Updates every 100 milliseconds\n"
      ],
      "metadata": {
        "colab": {
          "base_uri": "https://localhost:8080/"
        },
        "id": "y4_d4lNeiLXI",
        "outputId": "af073b1c-381e-4f36-a0cf-a45ea5f5a783"
      },
      "execution_count": null,
      "outputs": [
        {
          "output_type": "execute_result",
          "data": {
            "text/plain": [
              "<bokeh.server.callbacks.PeriodicCallback at 0x7d042eec3cd0>"
            ]
          },
          "metadata": {},
          "execution_count": 16
        }
      ]
    },
    {
      "cell_type": "code",
      "source": [],
      "metadata": {
        "id": "RNl1zf-5iS8U"
      },
      "execution_count": null,
      "outputs": []
    }
  ]
}