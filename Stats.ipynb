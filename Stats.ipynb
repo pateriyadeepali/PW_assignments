{
  "nbformat": 4,
  "nbformat_minor": 0,
  "metadata": {
    "colab": {
      "provenance": [],
      "authorship_tag": "ABX9TyMWO+YzSv2BYRP2Flgy6FIQ",
      "include_colab_link": true
    },
    "kernelspec": {
      "name": "python3",
      "display_name": "Python 3"
    },
    "language_info": {
      "name": "python"
    }
  },
  "cells": [
    {
      "cell_type": "markdown",
      "metadata": {
        "id": "view-in-github",
        "colab_type": "text"
      },
      "source": [
        "<a href=\"https://colab.research.google.com/github/Lata21/pw_assignments/blob/main/Stats.ipynb\" target=\"_parent\"><img src=\"https://colab.research.google.com/assets/colab-badge.svg\" alt=\"Open In Colab\"/></a>"
      ]
    },
    {
      "cell_type": "code",
      "execution_count": null,
      "metadata": {
        "id": "jswpjjyOylDD"
      },
      "outputs": [],
      "source": [
        "#1.\n",
        "#Statistics is the science of collecting , organizing and analyzing the data\n"
      ]
    },
    {
      "cell_type": "code",
      "source": [
        "#3.\n",
        "'''1. Quantitative Data :- Numerical varibale (+,-,*)\n",
        "\n",
        "Type :- Discrete and Continous\n",
        "\n",
        "Dicretre :- Whole number , no. of children in  family , no. of accidents\n",
        "\n",
        "Continous :- Any value  , Weight , Height , distance , speed\n",
        "\n",
        "2. Qualtitative Data :- Categorical variable()\n",
        "\n",
        "Type - Nominal and Ordinal\n",
        "\n",
        "Nominal:-gender , blood group, pincode\n",
        "\n",
        "Ordinal:-Define the rank\n",
        "\n",
        "Ex:- Feedback'''"
      ],
      "metadata": {
        "colab": {
          "base_uri": "https://localhost:8080/",
          "height": 105
        },
        "id": "qQ1yt_Rgypbw",
        "outputId": "098ed024-2f16-4ff8-93d2-43ddd39a2baa"
      },
      "execution_count": 1,
      "outputs": [
        {
          "output_type": "execute_result",
          "data": {
            "text/plain": [
              "'1. Quantitative Data :- Numerical varibale (+,-,*)\\n\\nType :- Discrete and Continous\\n\\nDicretre :- Whole number , no. of children in  family , no. of accidents\\n\\nContinous :- Any value  , Weight , Height , distance , speed \\n\\n2. Qualtitative Data :- Categorical variable()\\n\\nType - Nominal and Ordinal\\n\\nNominal:-gender , blood group, pincode\\n\\nOrdinal:-Define the rank \\n\\nEx:- Feedback'"
            ],
            "application/vnd.google.colaboratory.intrinsic+json": {
              "type": "string"
            }
          },
          "metadata": {},
          "execution_count": 1
        }
      ]
    },
    {
      "cell_type": "code",
      "source": [
        "#2.\n",
        "'''Types of Statistics:-\n",
        "\n",
        "1. Descriptive Statistics:-\n",
        "It consists of organizing and summarizing the data.\n",
        "--> Central tendecny[mean , mode etc..]\n",
        "--> Dispersion[var , std]\n",
        "--> distribution of data - histogram , pdf , pmf\n",
        "\n",
        "2. Inference Statistics\n",
        "It consists of using data u have to measurement to form conclusion\n",
        "1. z-test\n",
        "2. t-test\n",
        "3. CMI square '''\n"
      ],
      "metadata": {
        "colab": {
          "base_uri": "https://localhost:8080/",
          "height": 105
        },
        "id": "a9Kubyj-zgGC",
        "outputId": "8821a2ad-c634-4765-adb6-06bf817d19c2"
      },
      "execution_count": 2,
      "outputs": [
        {
          "output_type": "execute_result",
          "data": {
            "text/plain": [
              "'Types of Statistics:-\\n\\n1. Descriptive Statistics:-\\nIt consists of organizing and summarizing the data.\\n--> Central tendecny[mean , mode etc..]\\n--> Dispersion[var , std]\\n--> distribution of data - histogram , pdf , pmf\\n\\n2. Inference Statistics\\nIt consists of using data u have to measurement to form conclusion\\n1. z-test\\n2. t-test\\n3. CMI square '"
            ],
            "application/vnd.google.colaboratory.intrinsic+json": {
              "type": "string"
            }
          },
          "metadata": {},
          "execution_count": 2
        }
      ]
    },
    {
      "cell_type": "code",
      "source": [
        "#4.\n",
        "'''Quantitative Data (iii) Height data of a class: [178.9, 179, 179.5, 176, 177.2, 178.3, 175.8,...]\n",
        "(iv) Number of mangoes exported by a farm: [500, 600, 478, 672, ...]\n",
        "\n",
        "Qualitative Data:\n",
        "(i) Grading in exam: A+, A, B+, B, C+, C, D, E\n",
        "(ii) Colour of mangoes: yellow, green, orange, red '''"
      ],
      "metadata": {
        "colab": {
          "base_uri": "https://localhost:8080/",
          "height": 88
        },
        "id": "aDzh-jC0zt1M",
        "outputId": "86e90a0f-bfd4-46dc-df6e-a4ae47700cdf"
      },
      "execution_count": 3,
      "outputs": [
        {
          "output_type": "execute_result",
          "data": {
            "text/plain": [
              "'Quantitative Data (iii) Height data of a class: [178.9, 179, 179.5, 176, 177.2, 178.3, 175.8,...]\\n(iv) Number of mangoes exported by a farm: [500, 600, 478, 672, ...]\\n\\nQualitative Data:\\n(i) Grading in exam: A+, A, B+, B, C+, C, D, E\\n(ii) Colour of mangoes: yellow, green, orange, red '"
            ],
            "application/vnd.google.colaboratory.intrinsic+json": {
              "type": "string"
            }
          },
          "metadata": {},
          "execution_count": 3
        }
      ]
    },
    {
      "cell_type": "code",
      "source": [
        "#5.\n",
        "'''1. Nominal Scale Data:-\n",
        "\n",
        "Qualitative / Categorical data ... like colors , gender\n",
        "Order doen't matter\n",
        "\n",
        "2.Ordinal Scale Data\n",
        "\n",
        "Ranking is important , order also , differece cannot be measurement\n",
        "Ex:- Best , Good , Bad ...\n",
        "\n",
        "3.Interval Scale data:-\n",
        "Order is matter , differnce can be measured , ratio cannot be measured , No True \"0\" starting point\n",
        "\n",
        "Ex:- Temperature Variables\n",
        "\n",
        "4.Ratio Scale data:-\n",
        "Order matter , differnce are  measurable  , contains \"0\"  starting point..\n",
        "\n",
        "Ex:-\n",
        "Students marks in a class..\n",
        "90,60,30,...'''\n"
      ],
      "metadata": {
        "colab": {
          "base_uri": "https://localhost:8080/",
          "height": 140
        },
        "id": "vZo-xvzG0LNM",
        "outputId": "20563c7a-4ccf-443a-bc5d-bd6ded41593e"
      },
      "execution_count": 4,
      "outputs": [
        {
          "output_type": "execute_result",
          "data": {
            "text/plain": [
              "'1. Nominal Scale Data:-\\n\\nQualitative / Categorical data ... like colors , gender\\nOrder doen\\'t matter \\n\\n2.Ordinal Scale Data\\n\\nRanking is important , order also , differece cannot be measurement \\nEx:- Best , Good , Bad ...\\n\\n3.Interval Scale data:-\\nOrder is matter , differnce can be measured , ratio cannot be measured , No True \"0\" starting point\\n\\nEx:- Temperature Variables\\n\\n4.Ratio Scale data:-\\nOrder matter , differnce are  measurable  , contains \"0\"  starting point..\\n\\nEx:-\\nStudents marks in a class..\\n90,60,30,...'"
            ],
            "application/vnd.google.colaboratory.intrinsic+json": {
              "type": "string"
            }
          },
          "metadata": {},
          "execution_count": 4
        }
      ]
    },
    {
      "cell_type": "code",
      "source": [
        "#6.\n",
        "'''Suppose you are analyzing the performance of students in a school based on different subject scores. The subjects include Mathematics, History, and Physical Education. You have collected the data as follows:\n",
        "\n",
        "Student A: Mathematics - 85, History - 70, Physical Education - 90\n",
        "Student B: Mathematics - 75, History - 80, Physical Education - 85\n",
        "Student C: Mathematics - 95, History - 60, Physical Education - 75\n",
        "In this scenario, the levels of measurement play a critical role in determining the appropriate analyses:\n",
        "\n",
        "You can calculate the mode for each subject since mode calculation is applicable to nominal data (level of measurement) like subject names.\n",
        "You can rank the students' performance in each subject and calculate the median for each subject because both ranking and median calculation are applicable to ordinal data.\n",
        "You can calculate the mean and standard deviation of scores for each subject, which are applicable to interval data.'''"
      ],
      "metadata": {
        "colab": {
          "base_uri": "https://localhost:8080/",
          "height": 209
        },
        "id": "RvUS62ce0a-h",
        "outputId": "a0bace4b-0747-400f-809f-763b4128f414"
      },
      "execution_count": 5,
      "outputs": [
        {
          "output_type": "execute_result",
          "data": {
            "text/plain": [
              "\"Suppose you are analyzing the performance of students in a school based on different subject scores. The subjects include Mathematics, History, and Physical Education. You have collected the data as follows:\\n\\nStudent A: Mathematics - 85, History - 70, Physical Education - 90\\nStudent B: Mathematics - 75, History - 80, Physical Education - 85\\nStudent C: Mathematics - 95, History - 60, Physical Education - 75\\nIn this scenario, the levels of measurement play a critical role in determining the appropriate analyses:\\n\\nYou can calculate the mode for each subject since mode calculation is applicable to nominal data (level of measurement) like subject names.\\nYou can rank the students' performance in each subject and calculate the median for each subject because both ranking and median calculation are applicable to ordinal data.\\nYou can calculate the mean and standard deviation of scores for each subject, which are applicable to interval data.\""
            ],
            "application/vnd.google.colaboratory.intrinsic+json": {
              "type": "string"
            }
          },
          "metadata": {},
          "execution_count": 5
        }
      ]
    },
    {
      "cell_type": "code",
      "source": [
        "#7.\n",
        "'''Nominal data is a categorical type of data where values are assigned to different categories or labels. These categories do not have any inherent order or ranking.\n",
        "In nominal data, you can only determine if two values are the same or different. You cannot say one is greater or better than another.\n",
        "\n",
        "\n",
        "Ordinal Data:\n",
        "\n",
        "Ordinal data is also categorical, but it involves categories that have a meaningful order or ranking.\n",
        "In ordinal data, you can determine the relative position of values, indicating which is higher or lower, but you cannot quantify the difference between them in a meaningful way.'''"
      ],
      "metadata": {
        "colab": {
          "base_uri": "https://localhost:8080/",
          "height": 140
        },
        "id": "yxASK9eq0yUO",
        "outputId": "6e8b0996-fe0f-4968-fefd-3f5827d14f3c"
      },
      "execution_count": 7,
      "outputs": [
        {
          "output_type": "execute_result",
          "data": {
            "text/plain": [
              "'Nominal data is a categorical type of data where values are assigned to different categories or labels. These categories do not have any inherent order or ranking.\\nIn nominal data, you can only determine if two values are the same or different. You cannot say one is greater or better than another.\\n\\n\\nOrdinal Data:\\n\\nOrdinal data is also categorical, but it involves categories that have a meaningful order or ranking.\\nIn ordinal data, you can determine the relative position of values, indicating which is higher or lower, but you cannot quantify the difference between them in a meaningful way.'"
            ],
            "application/vnd.google.colaboratory.intrinsic+json": {
              "type": "string"
            }
          },
          "metadata": {},
          "execution_count": 7
        }
      ]
    },
    {
      "cell_type": "code",
      "source": [
        "#8.\n",
        "'''A type of plot that can be used to display data in terms of range is a box plot (also known as a box-and-whisker plot). Box plots are particularly useful for visually representing the spread, central tendency, and potential outliers in a dataset.\n",
        "\n",
        "A box plot displays the following information:\n",
        "\n",
        "The median (middle value) of the data, which is represented by a line inside a box.\n",
        "The interquartile range (IQR), which is the range between the first quartile (25th percentile) and the third quartile (75th percentile), represented by the width of the box.\n",
        "Whiskers that extend from the box, indicating the range of the data within a certain distance from the quartiles.\n",
        "Outliers, which are data points that fall outside the whiskers and are plotted individually.'''"
      ],
      "metadata": {
        "colab": {
          "base_uri": "https://localhost:8080/",
          "height": 174
        },
        "id": "7A257epi1HVp",
        "outputId": "2111d024-2aac-41d6-cd23-ecf13ba5ad3e"
      },
      "execution_count": 8,
      "outputs": [
        {
          "output_type": "execute_result",
          "data": {
            "text/plain": [
              "'A type of plot that can be used to display data in terms of range is a box plot (also known as a box-and-whisker plot). Box plots are particularly useful for visually representing the spread, central tendency, and potential outliers in a dataset.\\n\\nA box plot displays the following information:\\n\\nThe median (middle value) of the data, which is represented by a line inside a box.\\nThe interquartile range (IQR), which is the range between the first quartile (25th percentile) and the third quartile (75th percentile), represented by the width of the box.\\nWhiskers that extend from the box, indicating the range of the data within a certain distance from the quartiles.\\nOutliers, which are data points that fall outside the whiskers and are plotted individually.'"
            ],
            "application/vnd.google.colaboratory.intrinsic+json": {
              "type": "string"
            }
          },
          "metadata": {},
          "execution_count": 8
        }
      ]
    },
    {
      "cell_type": "code",
      "source": [
        "#9.\n",
        "'''Descriptive Statistics:\n",
        "Descriptive statistics involves methods and techniques for summarizing and presenting data in a meaningful way. It focuses on providing a clear and concise overview of the main features of a dataset, such as central tendency (mean, median, mode), variability (range, standard deviation), and the shape of the distribution. Descriptive statistics are used to describe and understand the characteristics of a dataset without making inferences about a larger population.\n",
        "\n",
        "Example of Descriptive Statistics:\n",
        "Suppose you have collected the ages of a group of individuals: 25, 30, 28, 35, 22, 40, and 29. Using descriptive statistics, you could calculate the mean age (central tendency) as (25 + 30 + 28 + 35 + 22 + 40 + 29) / 7 = 29.14 years. You could also calculate the standard deviation (variability) to understand how much the ages deviate from the mean.\n",
        "\n",
        "Inferential Statistics:\n",
        "Inferential statistics involves drawing conclusions or making predictions about a larger population based on a sample of data. It uses methods such as hypothesis testing, confidence intervals, and regression analysis to make inferences or predictions. Inferential statistics allows you to generalize findings from a sample to a broader population and make statements about relationships, effects, or differences.\n",
        "\n",
        "Example of Inferential Statistics:\n",
        "Suppose you want to determine whether a new teaching method has a statistically significant impact on students' test scores. You could randomly select a sample of students, teach them using the new method, and then compare their test scores to those of a control group that was taught using the traditional method. By analyzing the test score data using inferential statistics, you could determine whether the observed differences in test scores are likely to be due to the teaching method itself or if they could have occurred by random chance.'''"
      ],
      "metadata": {
        "colab": {
          "base_uri": "https://localhost:8080/",
          "height": 227
        },
        "id": "ixlhGBnM1Yau",
        "outputId": "e2e50185-b638-49e9-896f-ee83f286973b"
      },
      "execution_count": 9,
      "outputs": [
        {
          "output_type": "execute_result",
          "data": {
            "text/plain": [
              "\"Descriptive Statistics:\\nDescriptive statistics involves methods and techniques for summarizing and presenting data in a meaningful way. It focuses on providing a clear and concise overview of the main features of a dataset, such as central tendency (mean, median, mode), variability (range, standard deviation), and the shape of the distribution. Descriptive statistics are used to describe and understand the characteristics of a dataset without making inferences about a larger population.\\n\\nExample of Descriptive Statistics:\\nSuppose you have collected the ages of a group of individuals: 25, 30, 28, 35, 22, 40, and 29. Using descriptive statistics, you could calculate the mean age (central tendency) as (25 + 30 + 28 + 35 + 22 + 40 + 29) / 7 = 29.14 years. You could also calculate the standard deviation (variability) to understand how much the ages deviate from the mean.\\n\\nInferential Statistics:\\nInferential statistics involves drawing conclusions or making predictions about a larger population based on a sample of data. It uses methods such as hypothesis testing, confidence intervals, and regression analysis to make inferences or predictions. Inferential statistics allows you to generalize findings from a sample to a broader population and make statements about relationships, effects, or differences.\\n\\nExample of Inferential Statistics:\\nSuppose you want to determine whether a new teaching method has a statistically significant impact on students' test scores. You could randomly select a sample of students, teach them using the new method, and then compare their test scores to those of a control group that was taught using the traditional method. By analyzing the test score data using inferential statistics, you could determine whether the observed differences in test scores are likely to be due to the teaching method itself or if they could have occurred by random chance.\""
            ],
            "application/vnd.google.colaboratory.intrinsic+json": {
              "type": "string"
            }
          },
          "metadata": {},
          "execution_count": 9
        }
      ]
    },
    {
      "cell_type": "code",
      "source": [
        "#10.\n",
        "'''Measures of Central Tendency:\n",
        "Mean: The mean is the arithmetic average of a set of values. It's calculated by adding up all the values and then dividing by the total number of values. The mean provides a sense of the typical value in a dataset.\n",
        "Median: The median is the middle value in a dataset when the values are arranged in ascending order. If there's an even number of values, the median is the average of the two middle values. The median is less affected by outliers and extreme values compared to the mean\n",
        "Mode: The mode is the value that appears most frequently in a dataset. It's particularly useful for categorical or nominal data.\n",
        "\n",
        "Measures of Variability:\n",
        "\n",
        "Range: The range is the difference between the maximum and minimum values in a dataset. It gives an indication of the spread of the data\n",
        "Variance: Variance measures the average of the squared differences between each data point and the mean. It provides a measure of how much individual data points deviate from the mean.\n",
        "Standard Deviation: The standard deviation is the square root of the variance. It measures the average amount of variability or dispersion from the mean.'''"
      ],
      "metadata": {
        "colab": {
          "base_uri": "https://localhost:8080/",
          "height": 227
        },
        "id": "S4Dcequd1kVH",
        "outputId": "79fdcfdf-18e1-4be0-9e34-9b2a434d5c32"
      },
      "execution_count": 10,
      "outputs": [
        {
          "output_type": "execute_result",
          "data": {
            "text/plain": [
              "\"Measures of Central Tendency:\\nMean: The mean is the arithmetic average of a set of values. It's calculated by adding up all the values and then dividing by the total number of values. The mean provides a sense of the typical value in a dataset.\\nMedian: The median is the middle value in a dataset when the values are arranged in ascending order. If there's an even number of values, the median is the average of the two middle values. The median is less affected by outliers and extreme values compared to the mean\\nMode: The mode is the value that appears most frequently in a dataset. It's particularly useful for categorical or nominal data.\\n\\nMeasures of Variability:\\n\\nRange: The range is the difference between the maximum and minimum values in a dataset. It gives an indication of the spread of the data\\nVariance: Variance measures the average of the squared differences between each data point and the mean. It provides a measure of how much individual data points deviate from the mean.\\nStandard Deviation: The standard deviation is the square root of the variance. It measures the average amount of variability or dispersion from the mean.\""
            ],
            "application/vnd.google.colaboratory.intrinsic+json": {
              "type": "string"
            }
          },
          "metadata": {},
          "execution_count": 10
        }
      ]
    },
    {
      "cell_type": "code",
      "source": [],
      "metadata": {
        "id": "jlxmsP962J5T"
      },
      "execution_count": null,
      "outputs": []
    }
  ]
}